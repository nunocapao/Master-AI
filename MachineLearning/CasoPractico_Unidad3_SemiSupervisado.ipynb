{
 "cells": [
  {
   "cell_type": "markdown",
   "metadata": {},
   "source": [
    "# Caso Práctico Unidad 3: Aprendizaje Semi-Supervisado"
   ]
  },
  {
   "cell_type": "markdown",
   "metadata": {},
   "source": [
    "En este caso práctico vamos a poner en práctica las técnicas de aprendizaje semi-supervisado que hemos visto en clase. \n",
    "\n",
    "Para este caso se han creado unos datos sintéticos que simulan un problema de clasificación binaria con 5 características. Los datos se dividen en dos datasets:\n",
    "* 'supervisado_train.csv': casi 1000 muestras de entrenamiento pero únicamente 6 de ellas están etiquetadas.\n",
    "* 'supervisado_test.csv': 100 muestras etiquetadas que únicamente se usarán para evaluar el rendimiento del modelo.\n",
    "\n",
    "¿Seremos capaces de entrenar un modelo de ML con únicamente 6 muestras etiquetadas?\n",
    "\n",
    "\n",
    "3. Modelo de Auto-Aprendizaje\n",
    "\n",
    "Por último, vamos a utilizar un modelo de auto-aprendizaje y seguir los mismos pasos que en el modelo anterior.\n",
    "\n",
    "La clase que debemos utilizar se llama `SelfTrainingClassifier`, también dentro de la librería de `sklearn.semi_supervised`. Además de poner los targets no etiquetados a -1 en este caso tenemos que enviarle el modelo base que queremos utilizar en nuestro auto-aprendizaje, prueba tanto con regresión logística como con un Support Vector Machine.\n",
    "\n"
   ]
  },
  {
   "cell_type": "code",
   "execution_count": 25,
   "metadata": {},
   "outputs": [],
   "source": [
    "import pandas as pd\n",
    "import numpy as np\n",
    "from sklearn.semi_supervised import SelfTrainingClassifier\n",
    "from sklearn.linear_model import LogisticRegression\n",
    "from sklearn.svm import SVC\n",
    "from sklearn.metrics import classification_report"
   ]
  },
  {
   "cell_type": "code",
   "execution_count": 26,
   "metadata": {},
   "outputs": [
    {
     "name": "stdout",
     "output_type": "stream",
     "text": [
      "   feature_1  feature_2  feature_3  feature_4  feature_5  target\n",
      "0  -2.088601  -0.340637   1.884864  -1.392464  -1.085290     NaN\n",
      "1   0.524162   1.004460  -0.679015   0.818031  -1.604752     NaN\n",
      "2  -0.387311  -0.764898  -0.218967  -1.191786   0.960937     NaN\n",
      "3   1.980883  -1.446289  -0.516890   0.456531   1.169348     NaN\n",
      "4   3.513369  -1.237824  -0.411697   2.373793   1.115556     NaN\n",
      "   feature_1  feature_2  feature_3  feature_4  feature_5  target\n",
      "0  -0.126458   1.858739   0.239536   1.440887  -2.927498     1.0\n",
      "1   1.768867  -1.619473  -3.260053  -1.286733   4.997077     1.0\n",
      "2   2.022918  -1.976099  -1.789629  -0.990820   1.046086     1.0\n",
      "3   2.143243  -2.128542   1.710229   1.140884  -1.223265     0.0\n",
      "4   1.251846  -0.731237   1.437807   1.656303   0.126129     0.0\n",
      "\n",
      "Resultados con Regresión Logística:\n",
      "              precision    recall  f1-score   support\n",
      "\n",
      "         0.0       0.48      0.42      0.44        48\n",
      "         1.0       0.52      0.58      0.55        52\n",
      "\n",
      "    accuracy                           0.50       100\n",
      "   macro avg       0.50      0.50      0.49       100\n",
      "weighted avg       0.50      0.50      0.50       100\n",
      "\n",
      "\n",
      "Resultados con Support Vector Machine:\n",
      "              precision    recall  f1-score   support\n",
      "\n",
      "         0.0       0.48      0.33      0.40        48\n",
      "         1.0       0.52      0.67      0.59        52\n",
      "\n",
      "    accuracy                           0.51       100\n",
      "   macro avg       0.50      0.50      0.49       100\n",
      "weighted avg       0.50      0.51      0.50       100\n",
      "\n"
     ]
    }
   ],
   "source": [
    "# Cargar los datos\n",
    "train = pd.read_csv('data/semisupervisado_train.csv')\n",
    "test = pd.read_csv('data/semisupervisado_test.csv')\n",
    "\n",
    "print(train.head())\n",
    "print(test.head())\n",
    "\n",
    "# Los valores no etiquetados se deben poner como -1\n",
    "train['target'] = train['target'].fillna(-1)\n",
    "\n",
    "# Separar las características (X) y el target (y)\n",
    "X_train = train.drop(columns=['target'])\n",
    "y_train = train['target']\n",
    "\n",
    "X_test = test.drop(columns=['target'])\n",
    "y_test = test['target']\n",
    "\n",
    "# Probar con Regresión Logística\n",
    "modelo_base_lr = LogisticRegression(max_iter=1000)\n",
    "modelo_autoaprendizaje_lr = SelfTrainingClassifier(base_estimator=modelo_base_lr, criterion='threshold', threshold=0.75)\n",
    "modelo_autoaprendizaje_lr.fit(X_train, y_train)\n",
    "\n",
    "# Probar con SVM\n",
    "modelo_base_svm = SVC(probability=True)\n",
    "modelo_autoaprendizaje_svm = SelfTrainingClassifier(base_estimator=modelo_base_svm, criterion='threshold', threshold=0.75)\n",
    "modelo_autoaprendizaje_svm.fit(X_train, y_train)\n",
    "\n",
    "# Evaluarcon Regresión Logística\n",
    "pred_lr = modelo_autoaprendizaje_lr.predict(X_test)\n",
    "print(\"\\nResultados con Regresión Logística:\")\n",
    "print(classification_report(y_test, pred_lr))\n",
    "\n",
    "# Evaluar con SVM\n",
    "pred_svm = modelo_autoaprendizaje_svm.predict(X_test)\n",
    "print(\"\\nResultados con Support Vector Machine:\")\n",
    "print(classification_report(y_test, pred_svm))\n"
   ]
  },
  {
   "cell_type": "markdown",
   "metadata": {},
   "source": [
    "### 1. Modelo de Regresión Logística\n",
    "\n",
    "Entrena y evalúa un modelo normal de aprendizaje semisupervisado utilizando únicamente las 6 muestras etiquetadas disponibles en train y extrae las métricas de evaluación (accuracy, precisión, recall...) con el conjunto de test. ¿Qué te parecen los resultados?"
   ]
  },
  {
   "cell_type": "code",
   "execution_count": 27,
   "metadata": {},
   "outputs": [
    {
     "name": "stdout",
     "output_type": "stream",
     "text": [
      "Resultados con Regresión Logística (solo muestras etiquetadas):\n",
      "              precision    recall  f1-score   support\n",
      "\n",
      "         0.0       0.44      0.35      0.39        48\n",
      "         1.0       0.49      0.58      0.53        52\n",
      "\n",
      "    accuracy                           0.47       100\n",
      "   macro avg       0.46      0.47      0.46       100\n",
      "weighted avg       0.46      0.47      0.46       100\n",
      "\n"
     ]
    }
   ],
   "source": [
    "# Seleccionar solo las filas que tienen una etiqueta conocida (no igual a -1)\n",
    "X_train_labeled = X_train[y_train != -1]\n",
    "y_train_labeled = y_train[y_train != -1]\n",
    "\n",
    "# Crear el modelo\n",
    "modelo_lr = LogisticRegression(max_iter=1000)\n",
    "\n",
    "# Entrenar con las muestras etiquetadas\n",
    "modelo_lr.fit(X_train_labeled, y_train_labeled)\n",
    "\n",
    "# Evaluar en los datos de prueba\n",
    "predictions = modelo_lr.predict(X_test)\n",
    "\n",
    "# Mostrar métricas de evaluación\n",
    "print(\"Resultados con Regresión Logística (solo muestras etiquetadas):\")\n",
    "print(classification_report(y_test, predictions))"
   ]
  },
  {
   "cell_type": "markdown",
   "metadata": {},
   "source": [
    "### 2. Modelo de Propagación de Etiquetas\n",
    "\n",
    "Ahora vamos a utilizar todos los datos de entrenamiento disponibles mediante un modelo de aprendizaje supervisado, concretamente el de propagación de etiquetas.\n",
    "\n",
    "Recuerda que para ello utilizaremos el modelo `LabelPropagation` dentro de la librería de `sklearn.semi_supervised` y que para entrenarlo debemos poner el target a -1 en aquellas muestras no etiquetadas.\n",
    "\n",
    "Evalúa de nuevo el modelo con el conjunto de test y compara los resultados con el modelo anterior."
   ]
  },
  {
   "cell_type": "code",
   "execution_count": 28,
   "metadata": {},
   "outputs": [
    {
     "name": "stdout",
     "output_type": "stream",
     "text": [
      "Resultados con Propagación de Etiquetas:\n",
      "              precision    recall  f1-score   support\n",
      "\n",
      "         0.0       0.75      0.25      0.38        48\n",
      "         1.0       0.57      0.92      0.71        52\n",
      "\n",
      "    accuracy                           0.60       100\n",
      "   macro avg       0.66      0.59      0.54       100\n",
      "weighted avg       0.66      0.60      0.55       100\n",
      "\n"
     ]
    },
    {
     "name": "stderr",
     "output_type": "stream",
     "text": [
      "c:\\Users\\nunoc\\anaconda3\\Lib\\site-packages\\sklearn\\semi_supervised\\_label_propagation.py:322: ConvergenceWarning: max_iter=1000 was reached without convergence.\n",
      "  warnings.warn(\n"
     ]
    }
   ],
   "source": [
    "from sklearn.semi_supervised import LabelPropagation\n",
    "\n",
    "# Crear el modelo\n",
    "modelo_lp = LabelPropagation()\n",
    "\n",
    "# Entrenar con todas las muestras (etiquetadas y no etiquetadas)\n",
    "modelo_lp.fit(X_train, y_train)\n",
    "\n",
    "# Evaluar\n",
    "predictions_lp = modelo_lp.predict(X_test)\n",
    "\n",
    "# Mostrar métricas de evaluación\n",
    "print(\"Resultados con Propagación de Etiquetas:\")\n",
    "print(classification_report(y_test, predictions_lp))\n"
   ]
  },
  {
   "cell_type": "markdown",
   "metadata": {},
   "source": [
    "\n",
    "### 3. Modelo de Auto-Aprendizaje\n",
    "\n",
    "Por último, vamos a utilizar un modelo de auto-aprendizaje y seguir los mismos pasos que en el modelo anterior.\n",
    "\n",
    "La clase que debemos utilizar se llama `SelfTrainingClassifier`, también dentro de la librería de `sklearn.semi_supervised`. Además de poner los targets no etiquetados a -1 en este caso tenemos que enviarle el modelo base que queremos utilizar en nuestro auto-aprendizaje, prueba tanto con regresión logística como con un Support Vector Machine."
   ]
  },
  {
   "cell_type": "code",
   "execution_count": null,
   "metadata": {},
   "outputs": [
    {
     "name": "stdout",
     "output_type": "stream",
     "text": [
      "Resultados con Auto-Aprendizaje (Regresión Logística):\n",
      "              precision    recall  f1-score   support\n",
      "\n",
      "         0.0       0.48      0.42      0.44        48\n",
      "         1.0       0.52      0.58      0.55        52\n",
      "\n",
      "    accuracy                           0.50       100\n",
      "   macro avg       0.50      0.50      0.49       100\n",
      "weighted avg       0.50      0.50      0.50       100\n",
      "\n",
      "Resultados con Auto-Aprendizaje (SVM):\n",
      "              precision    recall  f1-score   support\n",
      "\n",
      "         0.0       0.48      0.33      0.40        48\n",
      "         1.0       0.52      0.67      0.59        52\n",
      "\n",
      "    accuracy                           0.51       100\n",
      "   macro avg       0.50      0.50      0.49       100\n",
      "weighted avg       0.50      0.51      0.50       100\n",
      "\n"
     ]
    }
   ],
   "source": [
    "from sklearn.semi_supervised import SelfTrainingClassifier\n",
    "from sklearn.svm import SVC\n",
    "\n",
    "# Crear y entrenar con Regresión Logística\n",
    "modelo_base_lr = LogisticRegression(max_iter=1000)\n",
    "modelo_autoaprendizaje_lr = SelfTrainingClassifier(base_estimator=modelo_base_lr, criterion='threshold', threshold=0.75)\n",
    "modelo_autoaprendizaje_lr.fit(X_train, y_train)\n",
    "\n",
    "# Evaluar con los datos de prueba\n",
    "predictions_lr = modelo_autoaprendizaje_lr.predict(X_test)\n",
    "\n",
    "# Mostrar métricas de evaluación para Regresión Logística\n",
    "print(\"Resultados con Auto-Aprendizaje (Regresión Logística):\")\n",
    "print(classification_report(y_test, predictions_lr))\n",
    "\n",
    "# Crear y entrenar el modelo con SVM\n",
    "modelo_base_svm = SVC(probability=True)\n",
    "modelo_autoaprendizaje_svm = SelfTrainingClassifier(base_estimator=modelo_base_svm, criterion='threshold', threshold=0.75)\n",
    "modelo_autoaprendizaje_svm.fit(X_train, y_train)\n",
    "\n",
    "# Evaluar con los datos de prueba\n",
    "predictions_svm = modelo_autoaprendizaje_svm.predict(X_test)\n",
    "\n",
    "# Mostrar métricas de evaluación para SVM\n",
    "print(\"Resultados con Auto-Aprendizaje (SVM):\")\n",
    "print(classification_report(y_test, predictions_svm))\n"
   ]
  }
 ],
 "metadata": {
  "colab": {
   "name": "How much does this house cost.ipynb",
   "provenance": [],
   "version": "0.3.2"
  },
  "kernelspec": {
   "display_name": "base",
   "language": "python",
   "name": "python3"
  },
  "language_info": {
   "codemirror_mode": {
    "name": "ipython",
    "version": 3
   },
   "file_extension": ".py",
   "mimetype": "text/x-python",
   "name": "python",
   "nbconvert_exporter": "python",
   "pygments_lexer": "ipython3",
   "version": "3.12.7"
  }
 },
 "nbformat": 4,
 "nbformat_minor": 0
}
