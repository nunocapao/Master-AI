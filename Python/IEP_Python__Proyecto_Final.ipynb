{
 "cells": [
  {
   "cell_type": "markdown",
   "id": "bfdf4c73-6e93-4af0-a845-414e67af38c0",
   "metadata": {
    "tags": []
   },
   "source": [
    "# Python Programming - Proyecto Fin de Asignatura"
   ]
  },
  {
   "cell_type": "markdown",
   "id": "3907a58f-bdf7-4559-9228-9a633fb6b76c",
   "metadata": {
    "jp-MarkdownHeadingCollapsed": true,
    "tags": []
   },
   "source": [
    "En en este proyecto vamos a aplicar los conocimientos adquiridos en la asignatura de Python Programming, para ello vamos a desarrollar las funcionalidades para una aplicación que nos permita gestionar el servicio de urgencias de un hospital. En la aplicación se van a tratar con los datos de los pacientes y los médicos que trabajan en el hospital.\n",
    "\n",
    "Para ello lo vamos a dividir en varias secciones donde crearemos funciones para poder manipular estos datos. No es obligatorio en el entregable pero se recomienda al alumno en cada sección hacer un par de ejemplos de ejecución de de cada función para comprobar que funciona."
   ]
  },
  {
   "cell_type": "markdown",
   "id": "14d1f897-a51c-4173-aa27-a543efaa00bc",
   "metadata": {},
   "source": [
    "## 1. Historias Clínicas\n",
    "\n",
    "Las visitas  de todos los pacientes están almacenadas en un CSV (separado por ,) con las siguiente columnas:\n",
    "* id_paciente: es el DNI del paciente\n",
    "* id_medico: número de 4 digitos\n",
    "* fecha_visita: en formato DD-MM-YYYY\n",
    "* notas: texto escrito por el médico con las notas \n",
    "\n",
    "Se adjunta un fichero llamado `historias_clinicas.csv` que contiene ya dos visitas registradas para dos pacientes con DNIs *00000000A* y *11111111B* respectivamente."
   ]
  },
  {
   "cell_type": "markdown",
   "id": "fe09aebc-ed66-4bb2-84d8-6726f0b2398b",
   "metadata": {},
   "source": [
    "### 1.1. Consulta histórica clínica\n",
    "\n",
    "Crea una función `consulta_historia_clinica` que permita consultar toda la história clínica de un paciente. \n",
    "\n",
    "* La función recibe el identificador del paciente\n",
    "* muestra por pantalla la fecha y las notas de cada visita de ese paciente que estén contenidas en el fichero `historias_clinicas.csv`. Cada visita en una línea. \n",
    "* Si el paciente no tiene ninguna visita registrada simplemente no se mostrará nada."
   ]
  },
  {
   "cell_type": "code",
   "execution_count": 61,
   "id": "d8f17935-83d8-4deb-9f61-fbd7f489d9e3",
   "metadata": {},
   "outputs": [],
   "source": [
    "import csv\n",
    "\n",
    "def consulta_historia_clinica(id_paciente):\n",
    "    # INTRODUCE AQUI TU CODIGO\n",
    "    file_path = 'historias_clinicas.csv'\n",
    "    try:\n",
    "        #Leer el archivo\n",
    "        with open(file_path, mode = 'r') as file:\n",
    "            data = csv.reader(file)\n",
    "            next(data)\n",
    "            \n",
    "            for line in data:\n",
    "                #Coincidencia de ID del paciente\n",
    "                if id_paciente == line[0]:\n",
    "                    visit_date = line[-2]\n",
    "                    visit_note = line[-1]\n",
    "                    print(f'El paciente {id_paciente} fue al hospital el dia {visit_date}. Informe: {visit_note}.')\n",
    "                else:\n",
    "                    pass\n",
    "    \n",
    "    except FileNotFoundError:\n",
    "        print(f'Error: no se encuentra el archivo \"{file_path}\".')        \n",
    "    except Exception as e:\n",
    "        print(e)                             "
   ]
  },
  {
   "cell_type": "code",
   "execution_count": 2,
   "id": "2c53247a",
   "metadata": {},
   "outputs": [
    {
     "name": "stdout",
     "output_type": "stream",
     "text": [
      "El paciente 00000000A fue al hospital el dia 10-06-2024. Informe: Paciente acude a urgencias con severo dolor de cabeza desde hace 3 horas.\n",
      "El paciente 00000000A fue al hospital el dia 17-06-2024. Informe: Se concede el alta al paciente tras remitir el dolor.\n"
     ]
    }
   ],
   "source": [
    "consulta_historia_clinica('00000000A')"
   ]
  },
  {
   "cell_type": "code",
   "execution_count": 5,
   "id": "210719f0",
   "metadata": {},
   "outputs": [
    {
     "name": "stdout",
     "output_type": "stream",
     "text": [
      "El paciente 11111111B fue al hospital el dia 17-06-2024. Informe: Fractura de peronÃ© con desplazamiento.\n",
      "El paciente 11111111B fue al hospital el dia 17-12-2024. Informe: RevisiÃ³n general.\n",
      "El paciente 11111111B fue al hospital el dia 04-01-2025. Informe: Dolor de cabeza.\n"
     ]
    }
   ],
   "source": [
    "consulta_historia_clinica('11111111B')"
   ]
  },
  {
   "cell_type": "markdown",
   "id": "56c81d3e-9df0-403c-9be7-5f1732d33757",
   "metadata": {},
   "source": [
    "#### 1.2. Registra Historia Clínica\n",
    "\n",
    "Esta función llamada `registra_historia_clinica` servirá para añadir nuevos registros en el fichero de históricas clínicas. \n",
    "* Recibe como parámetro el identificador del médico que quiere introducir un nuevo registro\n",
    "* Dentro de la función se le pide al médico que escriba el DNI del cliente y el texto de notas que quiere añadir (recuerda la función *input*). \n",
    "* La fecha se deberá obtener automáticamente tomando la fecha de hoy."
   ]
  },
  {
   "cell_type": "code",
   "execution_count": 95,
   "id": "801795e0-eed4-4b02-b8c2-3a7c27dc83fe",
   "metadata": {},
   "outputs": [],
   "source": [
    "import csv\n",
    "from datetime import datetime\n",
    "\n",
    "def registra_historia_clinica(id_medico):\n",
    "    # INTRODUCE AQUI TU CODIGO\n",
    "    \n",
    "    file_path = 'historias_clinicas.csv'\n",
    "    try:\n",
    "        #Para añadir en el fichero\n",
    "        with open(file_path, mode = 'a', newline = '') as file: \n",
    "            data_writer = csv.writer(file)\n",
    "            \n",
    "            clientID = input('DNI del cliente: ').strip()\n",
    "            visit_date = datetime.today().strftime('%d-%m-%Y') #En el formato DD/MM/YYYY\n",
    "            visit_note = input('\\nInforme médico: ').strip()\n",
    "\n",
    "            data_writer.writerow([clientID, id_medico, visit_date, visit_note])\n",
    "            \n",
    "    \n",
    "    except FileNotFoundError:\n",
    "        print(f'Error: no se encuentra el archivo \"{file_path}\".')        \n",
    "    except Exception as e:\n",
    "        print(f'Error: {e}')                             "
   ]
  },
  {
   "cell_type": "code",
   "execution_count": 97,
   "id": "00cf7f9f",
   "metadata": {},
   "outputs": [
    {
     "name": "stdout",
     "output_type": "stream",
     "text": [
      "DNI del cliente:  12345678Z<\n",
      "\n",
      "Informe médico:  Check up\n"
     ]
    }
   ],
   "source": [
    "registra_historia_clinica('1234')"
   ]
  },
  {
   "cell_type": "code",
   "execution_count": 11,
   "id": "b1851961",
   "metadata": {},
   "outputs": [
    {
     "name": "stdout",
     "output_type": "stream",
     "text": [
      "El paciente 11111111B fue al hospital el dia 17-06-2024. Informe: Fractura de peronÃ© con desplazamiento.\n",
      "El paciente 11111111B fue al hospital el dia 17-12-2024. Informe: RevisiÃ³n general.\n",
      "El paciente 11111111B fue al hospital el dia 04-01-2025. Informe: Dolor de cabeza.\n",
      "El paciente 11111111B fue al hospital el dia 04-01-2025. Informe: Dolor de garganta.\n"
     ]
    }
   ],
   "source": [
    "consulta_historia_clinica('11111111B')"
   ]
  },
  {
   "cell_type": "markdown",
   "id": "79dbee1e-8852-4cb8-8626-fc431b152a2d",
   "metadata": {},
   "source": [
    "## 2. Pacientes\n",
    "\n",
    "La información de los pacientes está almacenada en un diccionario con la siguiente estructura:\n",
    "  * Clave: el identificador del paciente\n",
    "  * Valor: una lista con la información del paciente en este orden: nombre, edad, fecha de ingreso y fecha de alta. Cuando la fecha de alta es None quiere decir que el paciente aun no ha sido dado de alta. \n",
    "  \n",
    "Se inicia el diccionario de pacientes con la siguiente información:"
   ]
  },
  {
   "cell_type": "code",
   "execution_count": 21,
   "id": "9c87dbfe-b7ef-4194-9c0b-de344219059b",
   "metadata": {},
   "outputs": [],
   "source": [
    "pacientes = {\n",
    "    '00000000A': ['Luis Martin', 34, '10-06-2024', '17-06-2024'],\n",
    "    '11111111B': ['Maria Diaz', 41, '17-06-2024', None],\n",
    "}"
   ]
  },
  {
   "cell_type": "markdown",
   "id": "40a46dea-6f66-49e6-bb48-03ac5d46adc0",
   "metadata": {},
   "source": [
    "### 2.1. Registro de pacientes"
   ]
  },
  {
   "cell_type": "markdown",
   "id": "1e49a83c-472e-46cb-b267-74c922b767dc",
   "metadata": {},
   "source": [
    "Crea una función `registra_paciente` para registrar a un paciente nuevo. \n",
    "* Recibe como parámetro el diccionario de pacientes\n",
    "* Dentro de ella consultará al usuario el DNI, el nombre y la edad del paciente. \n",
    "* Como fecha de ingreso se deberá tomar la fecha de hoy y la fecha de alta se deja a None ya que el paciente acaba de ingresar.\n",
    "* Para asegurar que no hay errores asegurate que la edad introducida es un número entero entre 0 y 120, en caso contrario muestra un error y sigue con el registro. \n",
    "* Por último actualiza el diccionario de pacientes con el nuevo ingreso y haz que la función devuelva el diccionario actualizado."
   ]
  },
  {
   "cell_type": "code",
   "execution_count": 65,
   "id": "0a5a4065",
   "metadata": {},
   "outputs": [],
   "source": [
    "from datetime import datetime\n",
    "def registra_paciente(pacientes):\n",
    "    # INTRODUCE AQUI TU CODIGO\n",
    "    \n",
    "    #DNI\n",
    "    while True:\n",
    "        dni = input('Introduce el DNI del paciente: ').strip()\n",
    "        \n",
    "        if dni in pacientes:\n",
    "            print('Error: El DNI ya está registrado. Intenta con otro.')\n",
    "        else:\n",
    "            break\n",
    "    \n",
    "    #Nombre    \n",
    "    nombre = input('Introduce el nombre del paciente: ').strip()\n",
    "    \n",
    "    #Edad\n",
    "    while True:\n",
    "        try:\n",
    "            edad = int(input('Introduce la edad del paciente: ').strip())\n",
    "            if 0 <= edad <= 120:\n",
    "                break\n",
    "            else:\n",
    "                print('Error: La edad debe ser un número entero positivo entre 0 y 120.')\n",
    "        except ValueError:\n",
    "            print('Error: Debes introducir un número entero.')\n",
    "    \n",
    "    #Fecha de ingreso        \n",
    "    fecha_ingreso = datetime.today().strftime('%d-%m-%Y')\n",
    "    \n",
    "    #Añadir el nuevo paciente al diccionario\n",
    "    pacientes[dni] = [nombre, edad, fecha_ingreso, None]\n",
    "    \n",
    "    print(f'Paciente registrado: {pacientes[dni]}.')"
   ]
  },
  {
   "cell_type": "code",
   "execution_count": 31,
   "id": "21710c20",
   "metadata": {},
   "outputs": [
    {
     "name": "stdout",
     "output_type": "stream",
     "text": [
      "Introduce el DNI del paciente:  12345678Z\n",
      "Introduce el nombre del paciente:  Javier\n",
      "Introduce la edad del paciente:  35\n"
     ]
    },
    {
     "name": "stdout",
     "output_type": "stream",
     "text": [
      "Paciente registrado: ['Javier', 35, '04-01-2025', None].\n"
     ]
    }
   ],
   "source": [
    "registra_paciente(pacientes)"
   ]
  },
  {
   "cell_type": "code",
   "execution_count": 33,
   "id": "bedb2589",
   "metadata": {},
   "outputs": [
    {
     "data": {
      "text/plain": [
       "{'00000000A': ['Luis Martin', 34, '10-06-2024', '17-06-2024'],\n",
       " '11111111B': ['Maria Diaz', 41, '17-06-2024', None],\n",
       " '12345678Z': ['Javier', 35, '04-01-2025', None]}"
      ]
     },
     "execution_count": 33,
     "metadata": {},
     "output_type": "execute_result"
    }
   ],
   "source": [
    "pacientes"
   ]
  },
  {
   "cell_type": "markdown",
   "id": "6d367979-2296-4a26-b980-5a3468a4d70e",
   "metadata": {},
   "source": [
    "### 2.2. Dar de alta paciente\n",
    "\n",
    "Esta función llamada `alta_paciente` acualizará el diccionario de pacientes añadiendo la fecha de alta a un paciente del diccionario. \n",
    "* Recibe el diccionario de pacientes y consulta el DNI del paciente que se quiere dar de alta. \n",
    "* Se actualiza la lista de información del paciene introduciendo como fecha de alta la fecha de hoy. \n",
    "* Si este paciente no existe se deberá mostrar un mensaje de error y no actualizar nada. \n",
    "* Devuelve el diccionario de pacientes actualizado.\n",
    "\n",
    "*Pista: piensa que la fecha de alta es el último elemento de la lista de información del paciente, debes actualizar este valor.*"
   ]
  },
  {
   "cell_type": "code",
   "execution_count": 67,
   "id": "0b5260a3-bbb3-4ac4-8c7c-2b792023842a",
   "metadata": {},
   "outputs": [],
   "source": [
    "from datetime import datetime\n",
    "\n",
    "def alta_paciente(pacientes):\n",
    "    # INTRODUCE AQUI TU CODIGO\n",
    "    \n",
    "    #DNI\n",
    "    dni = input('Introduce el DNI del paciente que se desea dar de alta: ').strip()\n",
    "    \n",
    "    #Verificar si el paciente existe\n",
    "    if dni in pacientes:\n",
    "        #Fecha de alta\n",
    "        fecha_alta = datetime.today().strftime('%d-%m-%Y')\n",
    "        pacientes[dni][-1] = fecha_alta    \n",
    "        print(f'Paciente dado de alta: {pacientes[dni]}')\n",
    "    else:\n",
    "        print('Error: No se encontró un paciente con ese DNI.')    "
   ]
  },
  {
   "cell_type": "code",
   "execution_count": 37,
   "id": "bff92c9d-6a77-4a75-bc1c-7d0e6dffc318",
   "metadata": {},
   "outputs": [
    {
     "name": "stdout",
     "output_type": "stream",
     "text": [
      "Introduce el DNI del paciente que se desea dar de alta:  12345678Z\n"
     ]
    },
    {
     "name": "stdout",
     "output_type": "stream",
     "text": [
      "Paciente dado de alta: ['Javier', 35, '04-01-2025', '04-01-2025']\n"
     ]
    }
   ],
   "source": [
    "alta_paciente(pacientes)"
   ]
  },
  {
   "cell_type": "markdown",
   "id": "c4280fa4-9e9b-4825-8b2a-7734957e4f28",
   "metadata": {},
   "source": [
    "### 2.3. Consulta Información Paciente\n",
    "\n",
    "Creamos una función `consulta_info_paciente`\n",
    "* Recibe el diccionario de pacientes y el identificador de un paciente a consultar\n",
    "* Imprime el nombre y edad y las fechas de ingreso y alta (si existiese). \n",
    "* Imprime un mensaje de error si este paciente no existe."
   ]
  },
  {
   "cell_type": "code",
   "execution_count": 69,
   "id": "062f80b4-84bb-4343-8ee9-9e25999f4926",
   "metadata": {},
   "outputs": [],
   "source": [
    "def consulta_info_paciente(id_paciente, pacientes):\n",
    "    # INTRODUCE AQUI TU CODIGO\n",
    "    if id_paciente in pacientes:\n",
    "        paciente = pacientes[id_paciente]\n",
    "        nombre, edad, fecha_ingreso, fecha_alta = paciente\n",
    "        print(f'Nombre: {nombre}\\nEdad: {edad}\\nFecha de ingreso: {fecha_ingreso}\\nFecha de alta: {fecha_alta if fecha_alta else 'Aún no ha sido dado de alta.'}')\n",
    "        \n",
    "    else:\n",
    "        print('Error: No se encontró un paciente con ese DNI.')"
   ]
  },
  {
   "cell_type": "code",
   "execution_count": 41,
   "id": "76c2e491",
   "metadata": {},
   "outputs": [
    {
     "name": "stdout",
     "output_type": "stream",
     "text": [
      "Nombre: Luis Martin\n",
      "Edad: 34\n",
      "Fecha de ingreso: 10-06-2024\n",
      "Fecha de alta: 17-06-2024\n"
     ]
    }
   ],
   "source": [
    "consulta_info_paciente('00000000A',pacientes)"
   ]
  },
  {
   "cell_type": "markdown",
   "id": "9d8e6cc0-6ad9-41bc-8032-156f7710dacf",
   "metadata": {},
   "source": [
    "## 3. Médicos\n",
    "\n",
    "Mediante un diccionario que tiene el identificador del médico junto con su contraseña vamos a gestionar el acceso, para asegurarnos que nadie que no sea médico puede consultar esta información confidencial. \n",
    "\n",
    "El diccionario se inicializa con los siguientes valores:"
   ]
  },
  {
   "cell_type": "code",
   "execution_count": 43,
   "id": "3091fc89-2c1f-4880-aff8-b5fbcfc0456e",
   "metadata": {},
   "outputs": [],
   "source": [
    "medicos = {\n",
    "    1234: 'IEP2024',\n",
    "    5555: 'M4DR1D'\n",
    "}"
   ]
  },
  {
   "cell_type": "markdown",
   "id": "1e960912-e58e-4529-8fe6-73dc61eaf74f",
   "metadata": {},
   "source": [
    "Crea una función `gestion_acceso` que gestione el acceso a la aplicacion. \n",
    "* Recibe el diccionario de médicos y pide al usuario introducir el identificador y la contraseña. \n",
    "* Se debe permitir hacer tres intentos de escribir al contraseña, si al tercero es erroneo se lanza una excepción de tipo \"ValueError\" con un mensaje de error. \n",
    "* Si la contraseña es correcta la función directamente devuelve el identificador del médico al que se le da acceso.\n",
    "\n",
    "*Pista: puesto que se permiten 3 intentos de contraseña deberás emplear un bucle*"
   ]
  },
  {
   "cell_type": "code",
   "execution_count": 71,
   "id": "9cf38e8a-9352-4a80-adfd-953ce641618f",
   "metadata": {},
   "outputs": [],
   "source": [
    "def gestion_acceso(medicos):\n",
    "    # INTRODUCE AQUI TU CODIGO\n",
    "    \n",
    "    #Pedir y validar ID \n",
    "    try:\n",
    "        intento_id = int(input('Identificador del Médico: '))\n",
    "    except ValueError:\n",
    "        raise ValueError('El identificador debe ser un numero entero.')\n",
    "    \n",
    "    if intento_id not in medicos: \n",
    "        raise ValueError('Identificador no encontrado.')   \n",
    "    \n",
    "    #Intentos de contraseña\n",
    "    intentos = 0\n",
    "    \n",
    "    while intentos < 3:\n",
    "\n",
    "        intento_contraseña = input('Contraseña: ')\n",
    "        if intento_contraseña == medicos[intento_id]:\n",
    "            print('Acceso concedido.')\n",
    "            return intento_id\n",
    "        else:\n",
    "            intentos += 1\n",
    "            print(f'\\nContraseña incorrecta. Te quedan {3-intentos}')\n",
    "            \n",
    "    raise ValueError('Acceso denegado. Has agotado los tres intentos')    "
   ]
  },
  {
   "cell_type": "code",
   "execution_count": 47,
   "id": "eb0797c2",
   "metadata": {},
   "outputs": [
    {
     "name": "stdout",
     "output_type": "stream",
     "text": [
      "Identificador del Médico:  1234\n",
      "Contraseña:  IEP2024\n"
     ]
    },
    {
     "name": "stdout",
     "output_type": "stream",
     "text": [
      "Acceso concedido.\n",
      "Acceso permitido para el médico con id: 1234\n"
     ]
    }
   ],
   "source": [
    "# Ejemplo \n",
    "try:\n",
    "    identificador = gestion_acceso(medicos)\n",
    "    print(f\"Acceso permitido para el médico con id: {identificador}\")\n",
    "except ValueError as e:\n",
    "    print(e)"
   ]
  },
  {
   "cell_type": "markdown",
   "id": "867922c0-cd79-4a45-89ed-162761ad93a5",
   "metadata": {},
   "source": [
    "## 4. Ejecución Principal\n",
    "\n",
    "Ahora vamos a escribir en una celda de código donde podamos aplicar todas las funciones que ya hemos creado. La operativa es la siguiente:\n",
    "\n",
    "* Primero se llama a la función `gestion_acceso` para solicitar al medico hacer login, y se almacena en una variable el id del medico que hace login.\n",
    "* Lo siguiente es un bucle con un menú donde el médico indica mediante un número la operación que quiere realizar:\n",
    "    1. Registrar paciente: se llama a la función `registra_paciente`.\n",
    "    2. Consulta información del paciente: se debe llamar a las funciones `consulta_info_paciente` y `consulta_historia_clinica`. Para ello primero se deberá solicitar al médico que introduzca el DNI del paciente que quiere consultar.\n",
    "    3. Dar de alta al paciente: se llama a la función `alta_paciente`.\n",
    "    4. Añadir historia clinica: se llama a la función `registra_historia_clinica`\n",
    "    5. Salir. El bucle acaba cuando el médico introduce el número 5 para indicar el fin del programa (recuerdas del comando *break*?).\n",
    "* Si el usuario introduce una opción no válida (cualquier número que no sea del 1 al 5), simplemente se vuelve a solicitar la entrada de una opción.\n",
    "\n",
    "Una vez que tengas esta celda completa haz una ejecución donde se prueben todas las opciones del menú para demostrar el funcionamiento correcto del programa. Se debe entregar el Notebook con esta ejecución realizada.\n",
    "\n",
    "Para ayudar al alumno se facilita parte del código que se debe escribir:"
   ]
  },
  {
   "cell_type": "code",
   "execution_count": 74,
   "id": "1cfb946e-8e2a-4847-8add-615cdec1b757",
   "metadata": {},
   "outputs": [],
   "source": [
    "def mostrar_menu():\n",
    "    print(\"\\n\")\n",
    "    print(\"==========================\")\n",
    "    print(\"  BIENVENIDO AL HOSPITAL\")\n",
    "    print(\"==========================\")\n",
    "    print(\"1. Registrar paciente\")\n",
    "    print(\"2. Consultar información del paciente\")\n",
    "    print(\"3. Dar de alta paciente\")\n",
    "    print(\"4. Añadir historia clínica del paciente\")\n",
    "    print(\"5. Salir\")\n",
    "    print (\"\\n\")"
   ]
  },
  {
   "cell_type": "code",
   "execution_count": 101,
   "id": "29c9fb87-9ddb-490b-8f2b-64af7e083e9f",
   "metadata": {},
   "outputs": [
    {
     "name": "stdout",
     "output_type": "stream",
     "text": [
      "Identificador del Médico:  1234\n",
      "Contraseña:  IEP2024\n"
     ]
    },
    {
     "name": "stdout",
     "output_type": "stream",
     "text": [
      "Acceso concedido.\n",
      "\n",
      "\n",
      "==========================\n",
      "  BIENVENIDO AL HOSPITAL\n",
      "==========================\n",
      "1. Registrar paciente\n",
      "2. Consultar información del paciente\n",
      "3. Dar de alta paciente\n",
      "4. Añadir historia clínica del paciente\n",
      "5. Salir\n",
      "\n",
      "\n"
     ]
    },
    {
     "name": "stdout",
     "output_type": "stream",
     "text": [
      "Introduzca una opción:  1\n",
      "Introduce el DNI del paciente:  12345678Z\n"
     ]
    },
    {
     "name": "stdout",
     "output_type": "stream",
     "text": [
      "Error: El DNI ya está registrado. Intenta con otro.\n"
     ]
    },
    {
     "name": "stdout",
     "output_type": "stream",
     "text": [
      "Introduce el DNI del paciente:  123456A\n",
      "Introduce el nombre del paciente:  Pepe\n",
      "Introduce la edad del paciente:  42\n"
     ]
    },
    {
     "name": "stdout",
     "output_type": "stream",
     "text": [
      "Paciente registrado: ['Pepe', 42, '04-01-2025', None].\n",
      "\n",
      "\n",
      "==========================\n",
      "  BIENVENIDO AL HOSPITAL\n",
      "==========================\n",
      "1. Registrar paciente\n",
      "2. Consultar información del paciente\n",
      "3. Dar de alta paciente\n",
      "4. Añadir historia clínica del paciente\n",
      "5. Salir\n",
      "\n",
      "\n"
     ]
    },
    {
     "name": "stdout",
     "output_type": "stream",
     "text": [
      "Introduzca una opción:  2\n",
      "Introduzca el id del paciente:  123456A\n"
     ]
    },
    {
     "name": "stdout",
     "output_type": "stream",
     "text": [
      "Nombre: Pepe\n",
      "Edad: 42\n",
      "Fecha de ingreso: 04-01-2025\n",
      "Fecha de alta: Aún no ha sido dado de alta.\n",
      "\n",
      "\n",
      "==========================\n",
      "  BIENVENIDO AL HOSPITAL\n",
      "==========================\n",
      "1. Registrar paciente\n",
      "2. Consultar información del paciente\n",
      "3. Dar de alta paciente\n",
      "4. Añadir historia clínica del paciente\n",
      "5. Salir\n",
      "\n",
      "\n"
     ]
    },
    {
     "name": "stdout",
     "output_type": "stream",
     "text": [
      "Introduzca una opción:  3\n",
      "Introduce el DNI del paciente que se desea dar de alta:  123456A\n"
     ]
    },
    {
     "name": "stdout",
     "output_type": "stream",
     "text": [
      "Paciente dado de alta: ['Pepe', 42, '04-01-2025', '04-01-2025']\n",
      "\n",
      "\n",
      "==========================\n",
      "  BIENVENIDO AL HOSPITAL\n",
      "==========================\n",
      "1. Registrar paciente\n",
      "2. Consultar información del paciente\n",
      "3. Dar de alta paciente\n",
      "4. Añadir historia clínica del paciente\n",
      "5. Salir\n",
      "\n",
      "\n"
     ]
    },
    {
     "name": "stdout",
     "output_type": "stream",
     "text": [
      "Introduzca una opción:  4\n",
      "DNI del cliente:  123456A\n",
      "\n",
      "Informe médico:  Dolor de cabeza\n"
     ]
    },
    {
     "name": "stdout",
     "output_type": "stream",
     "text": [
      "\n",
      "\n",
      "==========================\n",
      "  BIENVENIDO AL HOSPITAL\n",
      "==========================\n",
      "1. Registrar paciente\n",
      "2. Consultar información del paciente\n",
      "3. Dar de alta paciente\n",
      "4. Añadir historia clínica del paciente\n",
      "5. Salir\n",
      "\n",
      "\n"
     ]
    },
    {
     "name": "stdout",
     "output_type": "stream",
     "text": [
      "Introduzca una opción:  5\n"
     ]
    },
    {
     "name": "stdout",
     "output_type": "stream",
     "text": [
      "Saliendo del programa.\n"
     ]
    }
   ],
   "source": [
    "id_medico = gestion_acceso(medicos)\n",
    "\n",
    "while True:\n",
    "    mostrar_menu()\n",
    "    try:\n",
    "        opcion = int(input(\"Introduzca una opción: \"))\n",
    "        if opcion == 1:\n",
    "            registra_paciente(pacientes)\n",
    "        elif opcion == 2: \n",
    "            id_paciente = input('Introduzca el id del paciente: ').strip()\n",
    "            consulta_info_paciente(id_paciente,pacientes)\n",
    "        elif opcion == 3: \n",
    "            alta_paciente(pacientes)\n",
    "        elif opcion == 4: \n",
    "            registra_historia_clinica(id_medico)\n",
    "        elif opcion == 5:\n",
    "            print('Saliendo del programa.')\n",
    "            break\n",
    "        else:\n",
    "            print('Opción no válida. Inténtalo de nuevo.')\n",
    "    except ValueError:\n",
    "        print('Por favor, intruzca un número válido.')"
   ]
  }
 ],
 "metadata": {
  "kernelspec": {
   "display_name": "base",
   "language": "python",
   "name": "python3"
  },
  "language_info": {
   "codemirror_mode": {
    "name": "ipython",
    "version": 3
   },
   "file_extension": ".py",
   "mimetype": "text/x-python",
   "name": "python",
   "nbconvert_exporter": "python",
   "pygments_lexer": "ipython3",
   "version": "3.12.7"
  }
 },
 "nbformat": 4,
 "nbformat_minor": 5
}
