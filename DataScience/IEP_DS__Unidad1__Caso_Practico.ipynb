{
 "cells": [
  {
   "cell_type": "markdown",
   "metadata": {},
   "source": [
    "*Instituto Europeo de Posgrado* - Master en Inteligencia Artificial Aplicada\\\n",
    "*Asignatura*: Data Science"
   ]
  },
  {
   "cell_type": "markdown",
   "metadata": {},
   "source": [
    "# Unidad 2 - Casos Práticos"
   ]
  },
  {
   "cell_type": "markdown",
   "metadata": {},
   "source": [
    "En esta unidad hemos aprendido a manejar y transformar datos a través de Pandas, una de las librerías más utilizadas en Python para el análisis de datos. En estas dos activades vamos a poner en práctica lo aprendido con dos conjuntos de datos reales.\n",
    "\n",
    "Todos los ficheros a los que se hagan referencia en los ejercicios se encuentran en la carpeta *datos*.\n",
    "\n",
    "Antes de comenzar, vamos a importar la librería Pandas que utilizaremos en ambos ejercicios."
   ]
  },
  {
   "cell_type": "code",
   "execution_count": 129,
   "metadata": {},
   "outputs": [],
   "source": [
    "import pandas as pd"
   ]
  },
  {
   "cell_type": "markdown",
   "metadata": {},
   "source": [
    "## Ejercicio 1: Movie Ratings\n",
    "\n",
    "En este ejercicio vamos a trabajar con un conjunto de datos que contiene información sobre películas y valoraciones de usuarios. \n",
    "\n",
    "El fichero *movies.csv* contiene las siguientes columnas:\n",
    "* **movieId**: identificador de la película.\n",
    "* **title**: título de la película.\n",
    "* **genres**: géneros de la película. Están separados por el carácter \"|\".\n",
    "\n",
    "El fichero *ratings.csv* contiene las siguientes columnas:\n",
    "\n",
    "* **userId**: identificador del usuario que ha valorado la película.\n",
    "* **movieId**: identificador de la película.\n",
    "* **rating**: valoración de la película por el usuario, en una escala de 0.5 a 5.\n",
    "* **timestamp**: fecha y hora en la que se realizó la valoración. Está en formato UNIX, es decir, el número de segundos que han pasado desde el 1 de enero de 1970. Luego veremos cómo convertirlo a un formato más legible."
   ]
  },
  {
   "cell_type": "markdown",
   "metadata": {},
   "source": [
    "### 1.1. Carga de datos\n",
    "\n",
    "Lee los ficheros de datos y almacénalos en dos DataFrames de Pandas. Llámalos `movies` y `ratings`. ¿Cuántas películas y valoraciones hay en cada DataFrame?"
   ]
  },
  {
   "cell_type": "code",
   "execution_count": 132,
   "metadata": {},
   "outputs": [],
   "source": [
    "import pandas as pd\n",
    "\n",
    "movies = pd.read_csv('movies.csv')\n",
    "ratings = pd.read_csv('ratings.csv')"
   ]
  },
  {
   "cell_type": "code",
   "execution_count": 133,
   "metadata": {},
   "outputs": [
    {
     "name": "stdout",
     "output_type": "stream",
     "text": [
      "Películas: 45447\n",
      "Valoraciones: 500000\n"
     ]
    }
   ],
   "source": [
    "num_movies = movies.shape[0]\n",
    "num_ratings = ratings.shape[0]\n",
    "\n",
    "print(f'Películas: {num_movies}')\n",
    "print(f'Valoraciones: {num_ratings}')"
   ]
  },
  {
   "cell_type": "markdown",
   "metadata": {},
   "source": [
    "### 1.2. Union de DataFrames\n",
    "\n",
    "Añade el título y los géneros de las películas a la tabla de valoraciones de tal forma que tengamos una única tabla con toda la información. Llámala `movie_ratings`. Las películas que no tengan valoraciones o ratings de películas que no conocemos no nos interesan "
   ]
  },
  {
   "cell_type": "code",
   "execution_count": 135,
   "metadata": {},
   "outputs": [
    {
     "name": "stdout",
     "output_type": "stream",
     "text": [
      "   userId  movieId  rating   timestamp                           title  \\\n",
      "0       1      110     1.0  1425941529               Braveheart (1995)   \n",
      "1       1      147     4.5  1425942435  Basketball Diaries, The (1995)   \n",
      "2       1      858     5.0  1425941523           Godfather, The (1972)   \n",
      "3       1     1221     5.0  1425941546  Godfather: Part II, The (1974)   \n",
      "4       1     1246     5.0  1425941556       Dead Poets Society (1989)   \n",
      "\n",
      "             genres  \n",
      "0  Action|Drama|War  \n",
      "1             Drama  \n",
      "2       Crime|Drama  \n",
      "3       Crime|Drama  \n",
      "4             Drama  \n"
     ]
    }
   ],
   "source": [
    "movie_ratings = ratings.merge(movies, on = 'movieId', how = 'inner')\n",
    "\n",
    "print(movie_ratings.head())"
   ]
  },
  {
   "cell_type": "markdown",
   "metadata": {},
   "source": [
    "### 1.3. ¿Cuantas valoraciones ha recibido la película \"Dark Knight, The (2008)\"? ¿Y de 5 estrellas?"
   ]
  },
  {
   "cell_type": "code",
   "execution_count": 137,
   "metadata": {},
   "outputs": [
    {
     "name": "stdout",
     "output_type": "stream",
     "text": [
      "Total de valoraciones: 794\n",
      "Valoraciones de 5 estrellas: 240\n"
     ]
    }
   ],
   "source": [
    "dark_knight_ratings = movie_ratings[movie_ratings['title'] == 'Dark Knight, The (2008)']\n",
    "\n",
    "total_ratings = dark_knight_ratings.shape[0]\n",
    "\n",
    "five_star_ratings = dark_knight_ratings[dark_knight_ratings['rating'] == 5.0].shape[0]\n",
    "\n",
    "print(f'Total de valoraciones: {total_ratings}')\n",
    "print(f'Valoraciones de 5 estrellas: {five_star_ratings}')"
   ]
  },
  {
   "cell_type": "markdown",
   "metadata": {},
   "source": [
    "### 1.4. Calcula la valoracion media y el número de valoraciones de cada película.\n",
    "\n",
    "Almacena el resultado en un nuevo DataFrame llamado `movie_stats`. La funcion `size` nos da el número de valoraciones, y `mean` la valoración media."
   ]
  },
  {
   "cell_type": "code",
   "execution_count": 139,
   "metadata": {},
   "outputs": [
    {
     "name": "stdout",
     "output_type": "stream",
     "text": [
      "                              title  valoracion_media  num_valoraciones\n",
      "0  \"Great Performances\" Cats (1998)          2.666667                 3\n",
      "1                    #Horror (2015)          2.500000                 1\n",
      "2                $ (Dollars) (1971)          2.500000                 1\n",
      "3                   $5 a Day (2008)          2.500000                 1\n",
      "4                      $9.99 (2008)          3.500000                 2\n"
     ]
    }
   ],
   "source": [
    "movie_stats = movie_ratings.groupby('title')['rating'].agg(['mean', 'size']).reset_index()\n",
    "\n",
    "movie_stats.rename(columns={'mean': 'valoracion_media', 'size': 'num_valoraciones'}, inplace=True)\n",
    "\n",
    "print(movie_stats.head())"
   ]
  },
  {
   "cell_type": "markdown",
   "metadata": {},
   "source": [
    "### 1.5. ¿Qué película tiene la valoración media más alta? \n",
    "\n",
    "Para tener un resutltado más fiable filtra aquellas películas que tengan al menos 100 valoraciones y extrae el top 10 de películas con la valoración media más alta."
   ]
  },
  {
   "cell_type": "code",
   "execution_count": 141,
   "metadata": {},
   "outputs": [
    {
     "name": "stdout",
     "output_type": "stream",
     "text": [
      "                                             title  valoracion_media  \\\n",
      "11985             Shawshank Redemption, The (1994)          4.421611   \n",
      "14167     Treasure of the Sierra Madre, The (1948)          4.371681   \n",
      "3997                       Double Indemnity (1944)          4.366972   \n",
      "5516                         Godfather, The (1972)          4.361326   \n",
      "14520                   Usual Suspects, The (1995)          4.309783   \n",
      "11883  Seven Samurai (Shichinin no samurai) (1954)          4.283784   \n",
      "11036                           Rear Window (1954)          4.279012   \n",
      "9963        One Flew Over the Cuckoo's Nest (1975)          4.274905   \n",
      "13826                        Third Man, The (1949)          4.270992   \n",
      "1665                         Big Sleep, The (1946)          4.268182   \n",
      "\n",
      "       num_valoraciones  \n",
      "11985              1837  \n",
      "14167               113  \n",
      "3997                109  \n",
      "5516               1161  \n",
      "14520              1196  \n",
      "11883               259  \n",
      "11036               405  \n",
      "9963                793  \n",
      "13826               131  \n",
      "1665                110  \n"
     ]
    }
   ],
   "source": [
    "peliculas_filtradas = movie_stats[movie_stats['num_valoraciones'] >= 100]\n",
    "\n",
    "top_10_peliculas = peliculas_filtradas.sort_values(by='valoracion_media', ascending=False).head(10)\n",
    "\n",
    "print(top_10_peliculas)"
   ]
  },
  {
   "cell_type": "markdown",
   "metadata": {},
   "source": [
    "### 1.6. Extracción del año de la película\n",
    "\n",
    "El año de la película se encuentra entre paréntesis en el título, añade una columna al DataFrame `movies` con el año de la película asumiendo que siempre se encuentra en la misma posición. Utiliza una función lambda para extraer el año del título. Una vez que lo hayas extraído, elimina el año del título."
   ]
  },
  {
   "cell_type": "code",
   "execution_count": 143,
   "metadata": {},
   "outputs": [
    {
     "name": "stdout",
     "output_type": "stream",
     "text": [
      "   movieId                        title  \\\n",
      "0        1                    Toy Story   \n",
      "1        2                      Jumanji   \n",
      "2        3             Grumpier Old Men   \n",
      "3        4            Waiting to Exhale   \n",
      "4        5  Father of the Bride Part II   \n",
      "\n",
      "                                        genres   año  \n",
      "0  Adventure|Animation|Children|Comedy|Fantasy  1995  \n",
      "1                   Adventure|Children|Fantasy  1995  \n",
      "2                               Comedy|Romance  1995  \n",
      "3                         Comedy|Drama|Romance  1995  \n",
      "4                                       Comedy  1995  \n"
     ]
    }
   ],
   "source": [
    "import re\n",
    "\n",
    "movies['año'] = movies['title'].apply(lambda x: re.search(r'\\((\\d{4})\\)', x).group(1) if re.search(r'\\((\\d{4})\\)', x) else None)\n",
    "\n",
    "movies['title'] = movies['title'].apply(lambda x: re.sub(r'\\s*\\(\\d{4}\\)', '', x))\n",
    "\n",
    "print(movies.head())"
   ]
  },
  {
   "cell_type": "markdown",
   "metadata": {},
   "source": [
    "### 1.7. Filtro por género\n",
    "\n",
    "¿Cómo podríamos filtrar las películas de un género concreto? Por ejemplo, ¿cómo podríamos obtener las películas de acción de 1993? Piensa que la columna `genres` es una cadena de texto y por tanto podemos utilizar el método `str.contains` para filtrar por género."
   ]
  },
  {
   "cell_type": "code",
   "execution_count": 145,
   "metadata": {},
   "outputs": [
    {
     "name": "stdout",
     "output_type": "stream",
     "text": [
      "       movieId                                              title  \\\n",
      "281        284                   New York Cop (Nyû Yôku no koppu)   \n",
      "430        434                                        Cliffhanger   \n",
      "438        442                                     Demolition Man   \n",
      "460        464                                        Hard Target   \n",
      "461        465                                     Heaven & Earth   \n",
      "...        ...                                                ...   \n",
      "42832   169820                                     To Be the Best   \n",
      "44036   172621  It's sunny on Deribassovskaya, or: It's rainin...   \n",
      "44253   173117                         Quest of the Delta Knights   \n",
      "44359   173359                                    Sharpe's Rifles   \n",
      "45410   176191                                        Fit to Kill   \n",
      "\n",
      "                                genres   año  \n",
      "281                       Action|Crime  1993  \n",
      "430          Action|Adventure|Thriller  1993  \n",
      "438            Action|Adventure|Sci-Fi  1993  \n",
      "460    Action|Adventure|Crime|Thriller  1993  \n",
      "461                   Action|Drama|War  1993  \n",
      "...                                ...   ...  \n",
      "42832                           Action  1993  \n",
      "44036              Action|Comedy|Crime  1993  \n",
      "44253         Action|Adventure|Fantasy  1993  \n",
      "44359             Action|Adventure|War  1993  \n",
      "45410          Action|Romance|Thriller  1993  \n",
      "\n",
      "[102 rows x 4 columns]\n"
     ]
    }
   ],
   "source": [
    "# Filtrar películas de acción del año 1993\n",
    "peliculas_accion_1993 = movies[(movies['genres'].str.contains('Action', case=False, na=False)) & (movies['año'] == '1993')]\n",
    "\n",
    "print(peliculas_accion_1993)\n"
   ]
  },
  {
   "cell_type": "markdown",
   "metadata": {},
   "source": [
    "### 1.8. Tratamiento columna de fecha UNIX\n",
    "\n",
    "El campo `timestamp` de la tabla `ratings` está en formato UNIX, esto quiere decir que se trata de un número entero que representa los segundos que han pasado desde el 1 de enero de 1970. Para convertirlo a un formato más legible podemos utilizar la función `to_datetime` de Pandas. Crea una nueva columna en la tabla `ratings` llamada `date` que contenga la fecha en un formato legible. Cuando fue la primera y la última valoración?"
   ]
  },
  {
   "cell_type": "code",
   "execution_count": 147,
   "metadata": {},
   "outputs": [
    {
     "name": "stdout",
     "output_type": "stream",
     "text": [
      "Primera valoración: 1996-03-27 17:20:36\n",
      "Última valoración: 2017-08-04 04:52:46\n"
     ]
    }
   ],
   "source": [
    "# Convertir timestamp\n",
    "ratings['date'] = pd.to_datetime(ratings['timestamp'], unit='s')\n",
    "\n",
    "# Obtener la primera y la última valoración\n",
    "primera_valoracion = ratings['date'].min()\n",
    "ultima_valoracion = ratings['date'].max()\n",
    "\n",
    "print(f'Primera valoración: {primera_valoracion}')\n",
    "print(f'Última valoración: {ultima_valoracion}')\n"
   ]
  },
  {
   "cell_type": "markdown",
   "metadata": {},
   "source": [
    "## Ejericio 2: Estudiantes\n",
    "\n",
    "En este ejercicio vamos a trabajar con un conjunto de datos que contiene información sobre estudiantes y sus notas. El fichero *students-mat.csv* ha sido extraído del repositorio de Machine Learning de la UCI. Para consultar la descripción completa del conjunto de datos, puedes visitar el siguiente enlace: [Student Performance Data Set](https://archive.ics.uci.edu/ml/datasets/Student+Performance)."
   ]
  },
  {
   "cell_type": "code",
   "execution_count": 149,
   "metadata": {},
   "outputs": [],
   "source": [
    "import pandas as pd"
   ]
  },
  {
   "cell_type": "markdown",
   "metadata": {},
   "source": [
    "### 2.1. Carga de Datos\n",
    "\n",
    "Lee el fichero CSV llamado *students-mat.csv* y almacénalo en un DataFrame de Pandas llamado `students`. ¡OJO! El separador de campos es el punto y coma y no el comúnmente utilizado, la coma, que es el que se utiliza por defecto en la función `read_csv`. ¿Cómo puedes modificar el separador? Una vez cargado el fichero, muestra el número de filas y columnas del DataFrame."
   ]
  },
  {
   "cell_type": "code",
   "execution_count": 151,
   "metadata": {},
   "outputs": [
    {
     "name": "stdout",
     "output_type": "stream",
     "text": [
      "Número de filas y columnas: (395, 33)\n"
     ]
    }
   ],
   "source": [
    "students = pd.read_csv('student-mat.csv', sep=';')\n",
    "print(f\"Número de filas y columnas: {students.shape}\")"
   ]
  },
  {
   "cell_type": "markdown",
   "metadata": {},
   "source": [
    "### 2.2. Filtro estudiantes mayores de edad\n",
    "\n",
    "En nuestro estudio vamos a considerar solo a los estudiantes menores de 18 años, sobrescribe el DataFrame `students` para que contendrá solo a los estudiantes menores de edad."
   ]
  },
  {
   "cell_type": "code",
   "execution_count": 177,
   "metadata": {},
   "outputs": [
    {
     "name": "stdout",
     "output_type": "stream",
     "text": [
      "  school sex  age activities  grade1  grade2  grade3  grade1_passed  \\\n",
      "1     GP   F   17         no       5       5       6          False   \n",
      "2     GP   F   15         no       7       8      10          False   \n",
      "3     GP   F   15        yes      15      14      15           True   \n",
      "4     GP   F   16         no       6      10      10          False   \n",
      "5     GP   M   16        yes      15      15      15           True   \n",
      "\n",
      "   grade2_passed  grade3_passed  all_passed  none_passed  final_grade  \n",
      "1          False          False       False         True     5.333333  \n",
      "2          False           True       False        False     8.333333  \n",
      "3           True           True        True        False    14.666667  \n",
      "4           True           True       False        False     8.666667  \n",
      "5           True           True        True        False    15.000000  \n"
     ]
    }
   ],
   "source": [
    "students = students[students['age'] < 18]\n",
    "print(students.head())"
   ]
  },
  {
   "cell_type": "markdown",
   "metadata": {},
   "source": [
    "### 2.3. Renombrar columnas\n",
    "\n",
    "Las columnas G1, G2 y G3 contienen las notas de los estudiantes en tres cursos. Renombra estas columnas a `grade1`, `grade2` y `grade3` respectivamente. Para ello, puedes utilizar el método `rename` de Pandas."
   ]
  },
  {
   "cell_type": "code",
   "execution_count": 173,
   "metadata": {},
   "outputs": [
    {
     "name": "stdout",
     "output_type": "stream",
     "text": [
      "  school sex  age activities  grade1  grade2  grade3  grade1_passed  \\\n",
      "1     GP   F   17         no       5       5       6          False   \n",
      "2     GP   F   15         no       7       8      10          False   \n",
      "3     GP   F   15        yes      15      14      15           True   \n",
      "4     GP   F   16         no       6      10      10          False   \n",
      "5     GP   M   16        yes      15      15      15           True   \n",
      "\n",
      "   grade2_passed  grade3_passed  all_passed  none_passed  final_grade  \n",
      "1          False          False       False         True     5.333333  \n",
      "2          False           True       False        False     8.333333  \n",
      "3           True           True        True        False    14.666667  \n",
      "4           True           True       False        False     8.666667  \n",
      "5           True           True        True        False    15.000000  \n"
     ]
    }
   ],
   "source": [
    "students.rename(columns={'G1': 'grade1', 'G2': 'grade2', 'G3': 'grade3'}, inplace=True)\n",
    "print(students.head())"
   ]
  },
  {
   "cell_type": "markdown",
   "metadata": {},
   "source": [
    "### 2.4. Filtrado de columnas\n",
    "\n",
    "Vamos a reducir el tamaño del dataframe a solo las columnas que nos interesan. Mantén las siguientes columnas: `school`, `sex`, `age`, `activities` y las renombradas `grade1`, `grade2`, `grade3`. Sobrescribe el DataFrame `students` con el resultado."
   ]
  },
  {
   "cell_type": "code",
   "execution_count": 157,
   "metadata": {},
   "outputs": [],
   "source": [
    "students = students[['school', 'sex', 'age', 'activities', 'grade1', 'grade2', 'grade3']]"
   ]
  },
  {
   "cell_type": "markdown",
   "metadata": {},
   "source": [
    "### 2.5. Calculo de aprobados por curso\n",
    "\n",
    "Primero crea tres columnas de tipo booleano (`grade1_passed`, `grade2_passed`, `grade3_passed`) que indiquen si el estudiante ha aprobado cada uno de los cursos. Un estudiante aprueba si su nota es mayor o igual a 10. "
   ]
  },
  {
   "cell_type": "code",
   "execution_count": 159,
   "metadata": {},
   "outputs": [],
   "source": [
    "students['grade1_passed'] = students['grade1'] >= 10\n",
    "students['grade2_passed'] = students['grade2'] >= 10\n",
    "students['grade3_passed'] = students['grade3'] >= 10"
   ]
  },
  {
   "cell_type": "markdown",
   "metadata": {},
   "source": [
    "Ahora puedes contar el número de estudiantes que han aprobado cada curso. ¿Cuántos estudiantes han aprobado los tres cursos? ¿Y cuántos no han aprobado ninguno?"
   ]
  },
  {
   "cell_type": "code",
   "execution_count": 183,
   "metadata": {},
   "outputs": [
    {
     "name": "stdout",
     "output_type": "stream",
     "text": [
      "Aprobados en grade1: 188\n",
      "Aprobados en grade2: 190\n",
      "Aprobados en grade3: 204\n",
      "Estudiantes que aprobaron los tres cursos: 167\n",
      "Estudiantes que no aprobaron ninguno: 61\n"
     ]
    }
   ],
   "source": [
    "# Contar aprobados en cada curso\n",
    "grade1_passed_count = students['grade1_passed'].sum()\n",
    "grade2_passed_count = students['grade2_passed'].sum()\n",
    "grade3_passed_count = students['grade3_passed'].sum()\n",
    "print(f\"Aprobados en grade1: {grade1_passed_count}\")\n",
    "print(f\"Aprobados en grade2: {grade2_passed_count}\")\n",
    "print(f\"Aprobados en grade3: {grade3_passed_count}\")\n",
    "\n",
    "# Contar estudiantes que aprobaron los tres cursos y los que no aprobaron ninguno\n",
    "students['all_passed'] = students[['grade1_passed', 'grade2_passed', 'grade3_passed']].all(axis=1)\n",
    "students['none_passed'] = students[['grade1_passed', 'grade2_passed', 'grade3_passed']].sum(axis=1) == 0\n",
    "all_passed_count = students['all_passed'].sum()\n",
    "none_passed_count = students['none_passed'].sum()\n",
    "print(f\"Estudiantes que aprobaron los tres cursos: {all_passed_count}\")\n",
    "print(f\"Estudiantes que no aprobaron ninguno: {none_passed_count}\")"
   ]
  },
  {
   "cell_type": "markdown",
   "metadata": {},
   "source": [
    "### 2.6. Nota media por estudiante\n",
    "\n",
    "Calcula la nota media de cada estudiante y añade una nueva columna al DataFrame llamada `final_grade`."
   ]
  },
  {
   "cell_type": "code",
   "execution_count": 185,
   "metadata": {},
   "outputs": [
    {
     "name": "stdout",
     "output_type": "stream",
     "text": [
      "   grade1  grade2  grade3  final_grade\n",
      "1       5       5       6     5.333333\n",
      "2       7       8      10     8.333333\n",
      "3      15      14      15    14.666667\n",
      "4       6      10      10     8.666667\n",
      "5      15      15      15    15.000000\n"
     ]
    }
   ],
   "source": [
    "students['final_grade'] = students[['grade1', 'grade2', 'grade3']].mean(axis=1)\n",
    "print(students[['grade1', 'grade2', 'grade3', 'final_grade']].head())"
   ]
  },
  {
   "cell_type": "markdown",
   "metadata": {},
   "source": [
    "### 2.7. Nota media final por edad y sexo\n",
    "\n",
    "Calcula la nota media final de los estudiantes por edad y sexo, redondea el resultado a dos decimeles. Almacena el resultado en un DataFrame llamado `final_grade_stats` y ordena el resultado por nota media de mayor a menor. "
   ]
  },
  {
   "cell_type": "code",
   "execution_count": 187,
   "metadata": {},
   "outputs": [
    {
     "name": "stdout",
     "output_type": "stream",
     "text": [
      "   age sex  final_grade\n",
      "1   15   M        12.57\n",
      "3   16   M        11.66\n",
      "4   17   F        10.82\n",
      "2   16   F        10.49\n",
      "5   17   M        10.16\n",
      "0   15   F         9.80\n"
     ]
    }
   ],
   "source": [
    "final_grade_stats = students.groupby(['age', 'sex'])['final_grade'].mean().round(2).reset_index()\n",
    "final_grade_stats.sort_values(by='final_grade', ascending=False, inplace=True)\n",
    "print(final_grade_stats)"
   ]
  },
  {
   "cell_type": "markdown",
   "metadata": {},
   "source": [
    "### 2.8. Valores duplicados\n",
    "\n",
    "Hay alguna fila duplicada en el DataFrame `students`? ¿Crees que tiene sentido que haya filas duplicadas en este DataFrame? ¿Las eliminarías?\n",
    "\n",
    "El método `drop_duplicates` de Pandas nos permite eliminar filas duplicadas pero ¿cómo sabemos si hay filas duplicadas? Puedes utilizar el método `duplicated` para comprobar si hay filas duplicadas en el DataFrame."
   ]
  },
  {
   "cell_type": "code",
   "execution_count": 189,
   "metadata": {},
   "outputs": [
    {
     "name": "stdout",
     "output_type": "stream",
     "text": [
      "Número de filas duplicadas: 15\n"
     ]
    }
   ],
   "source": [
    "duplicated_rows = students.duplicated().sum()\n",
    "print(f\"Número de filas duplicadas: {duplicated_rows}\")"
   ]
  }
 ],
 "metadata": {
  "kernelspec": {
   "display_name": "Python 3 (ipykernel)",
   "language": "python",
   "name": "python3"
  },
  "language_info": {
   "codemirror_mode": {
    "name": "ipython",
    "version": 3
   },
   "file_extension": ".py",
   "mimetype": "text/x-python",
   "name": "python",
   "nbconvert_exporter": "python",
   "pygments_lexer": "ipython3",
   "version": "3.12.7"
  }
 },
 "nbformat": 4,
 "nbformat_minor": 4
}
